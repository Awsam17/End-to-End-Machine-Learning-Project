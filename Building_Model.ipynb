{
  "cells": [
    {
      "cell_type": "markdown",
      "metadata": {
        "id": "uua1wvw7iQB4"
      },
      "source": [
        "![](logo1.jpg)"
      ]
    },
    {
      "cell_type": "markdown",
      "metadata": {
        "id": "IMnWC3LuifEi"
      },
      "source": [
        "# **shAI Training 2023 | Level 1**\n",
        "\n",
        "## Task #8 (End-to-End ML Project {part_2})"
      ]
    },
    {
      "cell_type": "markdown",
      "metadata": {
        "id": "1rbe_ZnKi-uY"
      },
      "source": [
        "## Welcome to the exercises for reviewing second part of end to end ML project.\n",
        "**Make sure that you read and understand ch2 from the hands-on ML book (page 72 to the end of the chapter ) before start with this notebook.**\n",
        "\n",
        "**If you stuck with anything reread that part from the book and feel free to ask about anything in the messenger group as you go along.**\n",
        "\n",
        " ## Good Luck : )"
      ]
    },
    {
      "cell_type": "markdown",
      "metadata": {
        "id": "zAbRZ0fwfOb4"
      },
      "source": [
        "## first run the following cell for the first part of the project to continue your work"
      ]
    },
    {
      "cell_type": "code",
      "execution_count": 2,
      "metadata": {
        "id": "Q3v160SJfL7U"
      },
      "outputs": [],
      "source": [
        "import numpy as np\n",
        "import pandas as pd\n",
        "import matplotlib.pyplot as plt\n",
        "%matplotlib inline\n",
        "import seaborn as sns\n",
        "from sklearn.model_selection import train_test_split\n",
        "from pandas.plotting import scatter_matrix\n",
        "from sklearn.impute import SimpleImputer\n",
        "from sklearn.preprocessing import OneHotEncoder\n",
        "from sklearn.base import BaseEstimator, TransformerMixin\n",
        "from sklearn.pipeline import Pipeline\n",
        "from sklearn.preprocessing import StandardScaler\n",
        "from sklearn.compose import ColumnTransformer"
      ]
    },
    {
      "cell_type": "code",
      "execution_count": 3,
      "metadata": {
        "id": "ObbhNRgSfu6_"
      },
      "outputs": [],
      "source": [
        "import os\n",
        "import tarfile\n",
        "import urllib\n",
        "DOWNLOAD_ROOT = \"https://raw.githubusercontent.com/ageron/handson-ml2/master/\"\n",
        "HOUSING_PATH = os.path.join(\"datasets\", \"housing\")\n",
        "HOUSING_URL = DOWNLOAD_ROOT + \"datasets/housing/housing.tgz\"\n",
        "\n",
        "def fetch_housing_data(housing_url=HOUSING_URL, housing_path=HOUSING_PATH):\n",
        "    os.makedirs(housing_path, exist_ok=True)\n",
        "    tgz_path = os.path.join(housing_path, \"housing.tgz\")\n",
        "    urllib.request.urlretrieve(housing_url, tgz_path)\n",
        "    housing_tgz = tarfile.open(tgz_path)\n",
        "    housing_tgz.extractall(path=housing_path)\n",
        "    housing_tgz.close()\n",
        "\n",
        "def load_housing_data(housing_path=HOUSING_PATH):\n",
        "   csv_path = os.path.join(housing_path, \"housing.csv\")\n",
        "   return pd.read_csv(csv_path)\n",
        "\n",
        "fetch_housing_data()\n",
        "housing = load_housing_data()\n",
        "\n",
        "rooms_ix, bedrooms_ix, population_ix, household_ix = [\n",
        "    list(housing.columns).index(col)\n",
        "    for col in (\"total_rooms\", \"total_bedrooms\", \"population\", \"households\")]\n",
        "\n",
        "class CombinedAttributesAdder(BaseEstimator, TransformerMixin):\n",
        "    def __init__(self, add_bedrooms_per_room = True):\n",
        "        self.add_bedrooms_per_room = add_bedrooms_per_room\n",
        "    def fit(self, X, y=None):\n",
        "        return self  # nothing else to do\n",
        "    def transform(self, X, y=None):\n",
        "        rooms_per_household = X[:, rooms_ix] / X[:, household_ix]\n",
        "        population_per_household = X[:, population_ix] / X[:, household_ix]\n",
        "        if self.add_bedrooms_per_room:\n",
        "            bedrooms_per_room = X[:, bedrooms_ix] / X[:, rooms_ix]\n",
        "            return np.c_[X, rooms_per_household, population_per_household,\n",
        "                         bedrooms_per_room]\n",
        "        else:\n",
        "            return np.c_[X, rooms_per_household, population_per_household]\n",
        "\n",
        "train_set, test_set = train_test_split(housing, test_size=0.2, random_state=42)\n",
        "housing = train_set.drop(\"median_house_value\", axis=1)\n",
        "housing_labels = train_set[\"median_house_value\"].copy()\n",
        "\n",
        "housing_num = housing.drop(\"ocean_proximity\", axis=1)\n",
        "num_attribs = list(housing_num)\n",
        "cat_attribs = [\"ocean_proximity\"]\n",
        "\n",
        "num_pipeline = Pipeline([\n",
        " ('imputer', SimpleImputer(strategy=\"median\")),\n",
        " ('attribs_adder', CombinedAttributesAdder()),\n",
        " ('std_scaler', StandardScaler())])\n",
        "\n",
        "full_pipeline = ColumnTransformer([\n",
        " (\"num\", num_pipeline, num_attribs),\n",
        " (\"cat\", OneHotEncoder(), cat_attribs)])\n",
        "\n",
        "housing_prepared = full_pipeline.fit_transform(housing)"
      ]
    },
    {
      "cell_type": "markdown",
      "metadata": {
        "id": "wa6vPfm6jxsF"
      },
      "source": [
        "# 1- Select and Train a Model\n",
        "\n",
        "# Let’s first train a LinearRegression model"
      ]
    },
    {
      "cell_type": "code",
      "execution_count": 4,
      "metadata": {
        "id": "JCl0ZYDRjGz_",
        "colab": {
          "base_uri": "https://localhost:8080/",
          "height": 75
        },
        "outputId": "48b71591-3c51-44e8-c995-76f457dec578"
      },
      "outputs": [
        {
          "output_type": "execute_result",
          "data": {
            "text/plain": [
              "LinearRegression()"
            ],
            "text/html": [
              "<style>#sk-container-id-1 {color: black;background-color: white;}#sk-container-id-1 pre{padding: 0;}#sk-container-id-1 div.sk-toggleable {background-color: white;}#sk-container-id-1 label.sk-toggleable__label {cursor: pointer;display: block;width: 100%;margin-bottom: 0;padding: 0.3em;box-sizing: border-box;text-align: center;}#sk-container-id-1 label.sk-toggleable__label-arrow:before {content: \"▸\";float: left;margin-right: 0.25em;color: #696969;}#sk-container-id-1 label.sk-toggleable__label-arrow:hover:before {color: black;}#sk-container-id-1 div.sk-estimator:hover label.sk-toggleable__label-arrow:before {color: black;}#sk-container-id-1 div.sk-toggleable__content {max-height: 0;max-width: 0;overflow: hidden;text-align: left;background-color: #f0f8ff;}#sk-container-id-1 div.sk-toggleable__content pre {margin: 0.2em;color: black;border-radius: 0.25em;background-color: #f0f8ff;}#sk-container-id-1 input.sk-toggleable__control:checked~div.sk-toggleable__content {max-height: 200px;max-width: 100%;overflow: auto;}#sk-container-id-1 input.sk-toggleable__control:checked~label.sk-toggleable__label-arrow:before {content: \"▾\";}#sk-container-id-1 div.sk-estimator input.sk-toggleable__control:checked~label.sk-toggleable__label {background-color: #d4ebff;}#sk-container-id-1 div.sk-label input.sk-toggleable__control:checked~label.sk-toggleable__label {background-color: #d4ebff;}#sk-container-id-1 input.sk-hidden--visually {border: 0;clip: rect(1px 1px 1px 1px);clip: rect(1px, 1px, 1px, 1px);height: 1px;margin: -1px;overflow: hidden;padding: 0;position: absolute;width: 1px;}#sk-container-id-1 div.sk-estimator {font-family: monospace;background-color: #f0f8ff;border: 1px dotted black;border-radius: 0.25em;box-sizing: border-box;margin-bottom: 0.5em;}#sk-container-id-1 div.sk-estimator:hover {background-color: #d4ebff;}#sk-container-id-1 div.sk-parallel-item::after {content: \"\";width: 100%;border-bottom: 1px solid gray;flex-grow: 1;}#sk-container-id-1 div.sk-label:hover label.sk-toggleable__label {background-color: #d4ebff;}#sk-container-id-1 div.sk-serial::before {content: \"\";position: absolute;border-left: 1px solid gray;box-sizing: border-box;top: 0;bottom: 0;left: 50%;z-index: 0;}#sk-container-id-1 div.sk-serial {display: flex;flex-direction: column;align-items: center;background-color: white;padding-right: 0.2em;padding-left: 0.2em;position: relative;}#sk-container-id-1 div.sk-item {position: relative;z-index: 1;}#sk-container-id-1 div.sk-parallel {display: flex;align-items: stretch;justify-content: center;background-color: white;position: relative;}#sk-container-id-1 div.sk-item::before, #sk-container-id-1 div.sk-parallel-item::before {content: \"\";position: absolute;border-left: 1px solid gray;box-sizing: border-box;top: 0;bottom: 0;left: 50%;z-index: -1;}#sk-container-id-1 div.sk-parallel-item {display: flex;flex-direction: column;z-index: 1;position: relative;background-color: white;}#sk-container-id-1 div.sk-parallel-item:first-child::after {align-self: flex-end;width: 50%;}#sk-container-id-1 div.sk-parallel-item:last-child::after {align-self: flex-start;width: 50%;}#sk-container-id-1 div.sk-parallel-item:only-child::after {width: 0;}#sk-container-id-1 div.sk-dashed-wrapped {border: 1px dashed gray;margin: 0 0.4em 0.5em 0.4em;box-sizing: border-box;padding-bottom: 0.4em;background-color: white;}#sk-container-id-1 div.sk-label label {font-family: monospace;font-weight: bold;display: inline-block;line-height: 1.2em;}#sk-container-id-1 div.sk-label-container {text-align: center;}#sk-container-id-1 div.sk-container {/* jupyter's `normalize.less` sets `[hidden] { display: none; }` but bootstrap.min.css set `[hidden] { display: none !important; }` so we also need the `!important` here to be able to override the default hidden behavior on the sphinx rendered scikit-learn.org. See: https://github.com/scikit-learn/scikit-learn/issues/21755 */display: inline-block !important;position: relative;}#sk-container-id-1 div.sk-text-repr-fallback {display: none;}</style><div id=\"sk-container-id-1\" class=\"sk-top-container\"><div class=\"sk-text-repr-fallback\"><pre>LinearRegression()</pre><b>In a Jupyter environment, please rerun this cell to show the HTML representation or trust the notebook. <br />On GitHub, the HTML representation is unable to render, please try loading this page with nbviewer.org.</b></div><div class=\"sk-container\" hidden><div class=\"sk-item\"><div class=\"sk-estimator sk-toggleable\"><input class=\"sk-toggleable__control sk-hidden--visually\" id=\"sk-estimator-id-1\" type=\"checkbox\" checked><label for=\"sk-estimator-id-1\" class=\"sk-toggleable__label sk-toggleable__label-arrow\">LinearRegression</label><div class=\"sk-toggleable__content\"><pre>LinearRegression()</pre></div></div></div></div></div>"
            ]
          },
          "metadata": {},
          "execution_count": 4
        }
      ],
      "source": [
        "# CODE HERE\n",
        "from sklearn.linear_model import LinearRegression\n",
        "\n",
        "linear_regression = LinearRegression()\n",
        "\n",
        "linear_regression.fit(housing_prepared, housing_labels)"
      ]
    },
    {
      "cell_type": "markdown",
      "metadata": {
        "id": "_nDxOY7GmTNc"
      },
      "source": [
        "# First try it out on a few instances from the training set:\n"
      ]
    },
    {
      "cell_type": "code",
      "execution_count": 5,
      "metadata": {
        "id": "7Lx7VQm7pwSQ"
      },
      "outputs": [],
      "source": [
        "some_data = housing.iloc[:5]\n",
        "some_labels = housing_labels.iloc[:5]\n",
        "preprocess_some_data = full_pipeline.transform(some_data)"
      ]
    },
    {
      "cell_type": "code",
      "execution_count": 6,
      "metadata": {
        "id": "BU-ynaaIpYHO",
        "colab": {
          "base_uri": "https://localhost:8080/"
        },
        "outputId": "4a7ee12d-4790-48d9-a702-e22cc21e7eb1"
      },
      "outputs": [
        {
          "output_type": "stream",
          "name": "stdout",
          "text": [
            "Predictions :  [181746.54359616 290558.74973505 244957.50017771 146498.51061398\n",
            " 163230.42393939]\n",
            "Labels (desired output) :  [103000.0, 382100.0, 172600.0, 93400.0, 96500.0]\n"
          ]
        }
      ],
      "source": [
        "# CODE HERE\n",
        "predictions = linear_regression.predict(preprocess_some_data)\n",
        "print(\"Predictions : \",predictions)\n",
        "print(\"Labels (desired output) : \",list(some_labels))"
      ]
    },
    {
      "cell_type": "markdown",
      "metadata": {
        "id": "QjmwxoU-qFnb"
      },
      "source": [
        "# measure this regression model’s RMSE on the whole training set\n",
        "* sing Scikit-Learn’s mean_squared_error() function:"
      ]
    },
    {
      "cell_type": "code",
      "execution_count": 7,
      "metadata": {
        "id": "rczx22dFqRMc"
      },
      "outputs": [],
      "source": [
        "from sklearn.metrics import mean_squared_error"
      ]
    },
    {
      "cell_type": "code",
      "execution_count": 8,
      "metadata": {
        "id": "aCYZh9ExqWMJ",
        "colab": {
          "base_uri": "https://localhost:8080/"
        },
        "outputId": "8947edb0-cf75-4ae4-de1d-f32e6d6a4e53"
      },
      "outputs": [
        {
          "output_type": "execute_result",
          "data": {
            "text/plain": [
              "259.98693709060177"
            ]
          },
          "metadata": {},
          "execution_count": 8
        }
      ],
      "source": [
        "# CODE HERE\n",
        "housing_predictions = linear_regression.predict(housing_prepared)\n",
        "LR_RMSE = mean_squared_error(housing_labels, housing_predictions, squared=False)\n",
        "LR_RMSE = np.sqrt(LR_RMSE)\n",
        "LR_RMSE"
      ]
    },
    {
      "cell_type": "markdown",
      "metadata": {
        "id": "RLsKfuQpcfyx"
      },
      "source": [
        "# judge on the RMSE result for this model\n",
        "write down your answar\n",
        "- the MSE is high so the linear regression model is not the best choice for our problem ."
      ]
    },
    {
      "cell_type": "markdown",
      "metadata": {
        "id": "nnBVcR-MeFqa"
      },
      "source": [
        "your answer goes here"
      ]
    },
    {
      "cell_type": "markdown",
      "metadata": {
        "id": "vImNak3CqqFo"
      },
      "source": [
        "# Let’s train a Decision Tree Regressor model\n",
        "## more powerful model"
      ]
    },
    {
      "cell_type": "code",
      "execution_count": 9,
      "metadata": {
        "id": "8syfCBveqY2q"
      },
      "outputs": [],
      "source": [
        "from sklearn.tree import DecisionTreeRegressor"
      ]
    },
    {
      "cell_type": "code",
      "execution_count": 10,
      "metadata": {
        "id": "vrUPZzBhq-do",
        "colab": {
          "base_uri": "https://localhost:8080/",
          "height": 75
        },
        "outputId": "1a946c9a-64dd-4e7e-f1e3-cc5a3b10ee5d"
      },
      "outputs": [
        {
          "output_type": "execute_result",
          "data": {
            "text/plain": [
              "DecisionTreeRegressor()"
            ],
            "text/html": [
              "<style>#sk-container-id-2 {color: black;background-color: white;}#sk-container-id-2 pre{padding: 0;}#sk-container-id-2 div.sk-toggleable {background-color: white;}#sk-container-id-2 label.sk-toggleable__label {cursor: pointer;display: block;width: 100%;margin-bottom: 0;padding: 0.3em;box-sizing: border-box;text-align: center;}#sk-container-id-2 label.sk-toggleable__label-arrow:before {content: \"▸\";float: left;margin-right: 0.25em;color: #696969;}#sk-container-id-2 label.sk-toggleable__label-arrow:hover:before {color: black;}#sk-container-id-2 div.sk-estimator:hover label.sk-toggleable__label-arrow:before {color: black;}#sk-container-id-2 div.sk-toggleable__content {max-height: 0;max-width: 0;overflow: hidden;text-align: left;background-color: #f0f8ff;}#sk-container-id-2 div.sk-toggleable__content pre {margin: 0.2em;color: black;border-radius: 0.25em;background-color: #f0f8ff;}#sk-container-id-2 input.sk-toggleable__control:checked~div.sk-toggleable__content {max-height: 200px;max-width: 100%;overflow: auto;}#sk-container-id-2 input.sk-toggleable__control:checked~label.sk-toggleable__label-arrow:before {content: \"▾\";}#sk-container-id-2 div.sk-estimator input.sk-toggleable__control:checked~label.sk-toggleable__label {background-color: #d4ebff;}#sk-container-id-2 div.sk-label input.sk-toggleable__control:checked~label.sk-toggleable__label {background-color: #d4ebff;}#sk-container-id-2 input.sk-hidden--visually {border: 0;clip: rect(1px 1px 1px 1px);clip: rect(1px, 1px, 1px, 1px);height: 1px;margin: -1px;overflow: hidden;padding: 0;position: absolute;width: 1px;}#sk-container-id-2 div.sk-estimator {font-family: monospace;background-color: #f0f8ff;border: 1px dotted black;border-radius: 0.25em;box-sizing: border-box;margin-bottom: 0.5em;}#sk-container-id-2 div.sk-estimator:hover {background-color: #d4ebff;}#sk-container-id-2 div.sk-parallel-item::after {content: \"\";width: 100%;border-bottom: 1px solid gray;flex-grow: 1;}#sk-container-id-2 div.sk-label:hover label.sk-toggleable__label {background-color: #d4ebff;}#sk-container-id-2 div.sk-serial::before {content: \"\";position: absolute;border-left: 1px solid gray;box-sizing: border-box;top: 0;bottom: 0;left: 50%;z-index: 0;}#sk-container-id-2 div.sk-serial {display: flex;flex-direction: column;align-items: center;background-color: white;padding-right: 0.2em;padding-left: 0.2em;position: relative;}#sk-container-id-2 div.sk-item {position: relative;z-index: 1;}#sk-container-id-2 div.sk-parallel {display: flex;align-items: stretch;justify-content: center;background-color: white;position: relative;}#sk-container-id-2 div.sk-item::before, #sk-container-id-2 div.sk-parallel-item::before {content: \"\";position: absolute;border-left: 1px solid gray;box-sizing: border-box;top: 0;bottom: 0;left: 50%;z-index: -1;}#sk-container-id-2 div.sk-parallel-item {display: flex;flex-direction: column;z-index: 1;position: relative;background-color: white;}#sk-container-id-2 div.sk-parallel-item:first-child::after {align-self: flex-end;width: 50%;}#sk-container-id-2 div.sk-parallel-item:last-child::after {align-self: flex-start;width: 50%;}#sk-container-id-2 div.sk-parallel-item:only-child::after {width: 0;}#sk-container-id-2 div.sk-dashed-wrapped {border: 1px dashed gray;margin: 0 0.4em 0.5em 0.4em;box-sizing: border-box;padding-bottom: 0.4em;background-color: white;}#sk-container-id-2 div.sk-label label {font-family: monospace;font-weight: bold;display: inline-block;line-height: 1.2em;}#sk-container-id-2 div.sk-label-container {text-align: center;}#sk-container-id-2 div.sk-container {/* jupyter's `normalize.less` sets `[hidden] { display: none; }` but bootstrap.min.css set `[hidden] { display: none !important; }` so we also need the `!important` here to be able to override the default hidden behavior on the sphinx rendered scikit-learn.org. See: https://github.com/scikit-learn/scikit-learn/issues/21755 */display: inline-block !important;position: relative;}#sk-container-id-2 div.sk-text-repr-fallback {display: none;}</style><div id=\"sk-container-id-2\" class=\"sk-top-container\"><div class=\"sk-text-repr-fallback\"><pre>DecisionTreeRegressor()</pre><b>In a Jupyter environment, please rerun this cell to show the HTML representation or trust the notebook. <br />On GitHub, the HTML representation is unable to render, please try loading this page with nbviewer.org.</b></div><div class=\"sk-container\" hidden><div class=\"sk-item\"><div class=\"sk-estimator sk-toggleable\"><input class=\"sk-toggleable__control sk-hidden--visually\" id=\"sk-estimator-id-2\" type=\"checkbox\" checked><label for=\"sk-estimator-id-2\" class=\"sk-toggleable__label sk-toggleable__label-arrow\">DecisionTreeRegressor</label><div class=\"sk-toggleable__content\"><pre>DecisionTreeRegressor()</pre></div></div></div></div></div>"
            ]
          },
          "metadata": {},
          "execution_count": 10
        }
      ],
      "source": [
        "# CODE HERE\n",
        "DTR = DecisionTreeRegressor()\n",
        "\n",
        "DTR.fit(housing_prepared, housing_labels)"
      ]
    },
    {
      "cell_type": "markdown",
      "metadata": {
        "id": "kRhxYj0Aq9op"
      },
      "source": [
        "# Now evaluate the model on the training set\n",
        "* using Scikit-Learn’s mean_squared_error() function:"
      ]
    },
    {
      "cell_type": "code",
      "execution_count": 11,
      "metadata": {
        "id": "DYCxUSCkrNIY",
        "colab": {
          "base_uri": "https://localhost:8080/"
        },
        "outputId": "0bef6f06-1dc3-4d75-ce04-5033561ba4a9"
      },
      "outputs": [
        {
          "output_type": "execute_result",
          "data": {
            "text/plain": [
              "0.0"
            ]
          },
          "metadata": {},
          "execution_count": 11
        }
      ],
      "source": [
        "# CODE HERE\n",
        "housing_predictions = DTR.predict(housing_prepared)\n",
        "DTR_MSE = mean_squared_error(housing_labels, housing_predictions)\n",
        "DTR_MSE = np.sqrt(DTR_MSE)\n",
        "DTR_MSE"
      ]
    },
    {
      "cell_type": "markdown",
      "metadata": {
        "id": "CSxXI9b8iZPs"
      },
      "source": [
        "# Explaine this result\n",
        "write down your answar\n",
        "- Of course there is something wrong , it's impossible to get 0 error , maybe the DTR model has overfiting problem on the data , which is bad and will affect bad on testing set !"
      ]
    },
    {
      "cell_type": "markdown",
      "metadata": {
        "id": "BVSMQ7kbiZSi"
      },
      "source": [
        "your answer goes here"
      ]
    },
    {
      "cell_type": "markdown",
      "metadata": {
        "id": "rj7b4zSPrdyH"
      },
      "source": [
        "# Evaluation Using Cross-Validation\n",
        "\n",
        "1-split the training set into 10 distinct subsets then train and evaluate the Decision Tree model"
      ]
    },
    {
      "cell_type": "code",
      "execution_count": 12,
      "metadata": {
        "id": "JmNrgsBrwIe3"
      },
      "outputs": [],
      "source": [
        "from sklearn.model_selection import cross_val_score"
      ]
    },
    {
      "cell_type": "code",
      "execution_count": 13,
      "metadata": {
        "id": "yXNPsWjcwMd_"
      },
      "outputs": [],
      "source": [
        "# CODE HERE\n",
        "scores = cross_val_score(DTR, housing_prepared, housing_labels,scoring=\"neg_mean_squared_error\", cv=10)\n",
        "\n",
        "DTR_RMSE_scores = np.sqrt(-scores)"
      ]
    },
    {
      "cell_type": "markdown",
      "metadata": {
        "id": "KqReIY3urLP8"
      },
      "source": [
        "2- display the resultant scores and calculate its Mean and Standard deviation"
      ]
    },
    {
      "cell_type": "code",
      "execution_count": 14,
      "metadata": {
        "id": "1g8jIq-6raVF",
        "colab": {
          "base_uri": "https://localhost:8080/"
        },
        "outputId": "b1bdeca9-1e68-46be-af93-e413584a36cb"
      },
      "outputs": [
        {
          "output_type": "stream",
          "name": "stdout",
          "text": [
            "Scores: [-4.06698235e+09 -4.88779741e+09 -4.68299122e+09 -4.91403558e+09\n",
            " -5.51217763e+09 -4.38148414e+09 -4.54723528e+09 -4.65880660e+09\n",
            " -4.27288286e+09 -5.15799384e+09]\n",
            "Mean: -4708238690.485308\n",
            "Standard deviation: 407395041.10337836\n"
          ]
        }
      ],
      "source": [
        "# CODE HERE\n",
        "print(\"Scores:\", scores)\n",
        "print(\"Mean:\", scores.mean())\n",
        "print(\"Standard deviation:\", scores.std())"
      ]
    },
    {
      "cell_type": "markdown",
      "metadata": {
        "id": "G6paGk_hsGGY"
      },
      "source": [
        "3-repaet the same steps to compute the same scores for the Linear Regression  model\n",
        "\n",
        "*notice the difference between the results of the two models*"
      ]
    },
    {
      "cell_type": "code",
      "execution_count": 15,
      "metadata": {
        "id": "ol3C6DmusWfx",
        "colab": {
          "base_uri": "https://localhost:8080/"
        },
        "outputId": "1da83834-1175-4640-d503-c936ef18b7e5"
      },
      "outputs": [
        {
          "output_type": "stream",
          "name": "stdout",
          "text": [
            "Scores: [-4.22508760e+09 -5.03540116e+09 -4.50544871e+09 -4.36783940e+09\n",
            " -4.67890842e+09 -4.25969610e+09 -4.25348949e+09 -4.69574001e+09\n",
            " -5.29108950e+09 -4.75511489e+09]\n",
            "Mean: -4606781527.467085\n",
            "Standard deviation: 338444436.40315783\n"
          ]
        }
      ],
      "source": [
        "# CODE HERE\n",
        "scores = cross_val_score(linear_regression, housing_prepared, housing_labels,scoring=\"neg_mean_squared_error\", cv=10)\n",
        "\n",
        "LR_RMSE_scores = np.sqrt(-scores)\n",
        "\n",
        "print(\"Scores:\", scores)\n",
        "print(\"Mean:\", scores.mean())\n",
        "print(\"Standard deviation:\", scores.std())"
      ]
    },
    {
      "cell_type": "markdown",
      "metadata": {
        "id": "fdQ85uTEtDy1"
      },
      "source": [
        "## Let’s train one last model the RandomForestRegressor."
      ]
    },
    {
      "cell_type": "code",
      "execution_count": 16,
      "metadata": {
        "id": "O1PPFq5TtdDP",
        "colab": {
          "base_uri": "https://localhost:8080/"
        },
        "outputId": "e8566ebc-5d11-40d9-afac-9a8acddaf039"
      },
      "outputs": [
        {
          "output_type": "execute_result",
          "data": {
            "text/plain": [
              "18527.322990316152"
            ]
          },
          "metadata": {},
          "execution_count": 16
        }
      ],
      "source": [
        "# CODE HERE\n",
        "from sklearn.ensemble import RandomForestRegressor\n",
        "\n",
        "RFR = RandomForestRegressor(n_estimators=100, random_state=42)\n",
        "RFR.fit(housing_prepared, housing_labels)\n",
        "\n",
        "housing_predictions = RFR.predict(housing_prepared)\n",
        "RFR_mse = mean_squared_error(housing_labels, housing_predictions)\n",
        "\n",
        "RFR_rmse = np.sqrt(RFR_mse)\n",
        "RFR_rmse"
      ]
    },
    {
      "cell_type": "markdown",
      "metadata": {
        "id": "gSxaBthCtw93"
      },
      "source": [
        "# repeat the same steps to compute the same scores its Mean and Standard deviation for the Random Forest model"
      ]
    },
    {
      "cell_type": "code",
      "execution_count": 17,
      "metadata": {
        "id": "AAc2MOQwt2lC",
        "colab": {
          "base_uri": "https://localhost:8080/"
        },
        "outputId": "ef7811b3-921f-4392-cb86-a8c17721b7a8"
      },
      "outputs": [
        {
          "output_type": "stream",
          "name": "stdout",
          "text": [
            "Scores: [47341.96931397 51653.53070248 49360.29148883 51625.62777032\n",
            " 52771.91063892 46989.97118038 47333.72603398 50636.24303693\n",
            " 48951.73251683 50183.60590465]\n",
            "Mean: 49684.86085873057\n",
            "Standard deviation: 1929.9797084102233\n"
          ]
        }
      ],
      "source": [
        "# CODE HERE\n",
        "RFR_score = cross_val_score(RFR,housing_prepared,housing_labels,scoring=\"neg_mean_squared_error\",cv=10)\n",
        "RFR_rmse_score = np.sqrt(-RFR_score)\n",
        "\n",
        "print(\"Scores:\", RFR_rmse_score)\n",
        "print(\"Mean:\", RFR_rmse_score.mean())\n",
        "print(\"Standard deviation:\", RFR_rmse_score.std())"
      ]
    },
    {
      "cell_type": "markdown",
      "metadata": {
        "id": "Vn2u9DOxvE5S"
      },
      "source": [
        "# Save every model you experiment with\n",
        "*using the joblib library*"
      ]
    },
    {
      "cell_type": "code",
      "execution_count": 18,
      "metadata": {
        "id": "mWyIi3mtva85",
        "colab": {
          "base_uri": "https://localhost:8080/"
        },
        "outputId": "250265b6-6520-4eaa-8458-388a615ba088"
      },
      "outputs": [
        {
          "output_type": "execute_result",
          "data": {
            "text/plain": [
              "['RandomForestModel.pkl']"
            ]
          },
          "metadata": {},
          "execution_count": 18
        }
      ],
      "source": [
        "# CODE HERE\n",
        "import joblib\n",
        "joblib.dump(linear_regression,'LinearRegressionModel.pkl')\n",
        "joblib.dump(DTR,'DecsionTreeModel.pkl')\n",
        "joblib.dump(RFR,'RandomForestModel.pkl')\n"
      ]
    },
    {
      "cell_type": "markdown",
      "metadata": {
        "id": "gIC6O-h0wOBJ"
      },
      "source": [
        "## now you have a shortlist of promising models. You now need to\n",
        "## fine-tune them!\n",
        "# Fine-Tune Your Model\n",
        "\n",
        "## 1- Grid Search\n",
        "## evaluate all the possible combinations of hyperparameter values for the RandomForestRegressor\n",
        "*It may take a long time*"
      ]
    },
    {
      "cell_type": "code",
      "execution_count": 19,
      "metadata": {
        "id": "Y8Wqd-Pix3Sm"
      },
      "outputs": [],
      "source": [
        "from sklearn.model_selection import GridSearchCV"
      ]
    },
    {
      "cell_type": "code",
      "execution_count": 20,
      "metadata": {
        "id": "j-zNvGLhyGGb",
        "colab": {
          "base_uri": "https://localhost:8080/",
          "height": 118
        },
        "outputId": "b1d4d0b2-89e4-4d75-8dfe-0d0084b1e104"
      },
      "outputs": [
        {
          "output_type": "execute_result",
          "data": {
            "text/plain": [
              "GridSearchCV(cv=5, estimator=RandomForestRegressor(random_state=42),\n",
              "             param_grid=[{'max_features': [2, 4, 6, 8],\n",
              "                          'n_estimators': [3, 10, 30]},\n",
              "                         {'bootstrap': [False], 'max_features': [2, 3, 4],\n",
              "                          'n_estimators': [3, 10]}],\n",
              "             return_train_score=True, scoring='neg_mean_squared_error')"
            ],
            "text/html": [
              "<style>#sk-container-id-3 {color: black;background-color: white;}#sk-container-id-3 pre{padding: 0;}#sk-container-id-3 div.sk-toggleable {background-color: white;}#sk-container-id-3 label.sk-toggleable__label {cursor: pointer;display: block;width: 100%;margin-bottom: 0;padding: 0.3em;box-sizing: border-box;text-align: center;}#sk-container-id-3 label.sk-toggleable__label-arrow:before {content: \"▸\";float: left;margin-right: 0.25em;color: #696969;}#sk-container-id-3 label.sk-toggleable__label-arrow:hover:before {color: black;}#sk-container-id-3 div.sk-estimator:hover label.sk-toggleable__label-arrow:before {color: black;}#sk-container-id-3 div.sk-toggleable__content {max-height: 0;max-width: 0;overflow: hidden;text-align: left;background-color: #f0f8ff;}#sk-container-id-3 div.sk-toggleable__content pre {margin: 0.2em;color: black;border-radius: 0.25em;background-color: #f0f8ff;}#sk-container-id-3 input.sk-toggleable__control:checked~div.sk-toggleable__content {max-height: 200px;max-width: 100%;overflow: auto;}#sk-container-id-3 input.sk-toggleable__control:checked~label.sk-toggleable__label-arrow:before {content: \"▾\";}#sk-container-id-3 div.sk-estimator input.sk-toggleable__control:checked~label.sk-toggleable__label {background-color: #d4ebff;}#sk-container-id-3 div.sk-label input.sk-toggleable__control:checked~label.sk-toggleable__label {background-color: #d4ebff;}#sk-container-id-3 input.sk-hidden--visually {border: 0;clip: rect(1px 1px 1px 1px);clip: rect(1px, 1px, 1px, 1px);height: 1px;margin: -1px;overflow: hidden;padding: 0;position: absolute;width: 1px;}#sk-container-id-3 div.sk-estimator {font-family: monospace;background-color: #f0f8ff;border: 1px dotted black;border-radius: 0.25em;box-sizing: border-box;margin-bottom: 0.5em;}#sk-container-id-3 div.sk-estimator:hover {background-color: #d4ebff;}#sk-container-id-3 div.sk-parallel-item::after {content: \"\";width: 100%;border-bottom: 1px solid gray;flex-grow: 1;}#sk-container-id-3 div.sk-label:hover label.sk-toggleable__label {background-color: #d4ebff;}#sk-container-id-3 div.sk-serial::before {content: \"\";position: absolute;border-left: 1px solid gray;box-sizing: border-box;top: 0;bottom: 0;left: 50%;z-index: 0;}#sk-container-id-3 div.sk-serial {display: flex;flex-direction: column;align-items: center;background-color: white;padding-right: 0.2em;padding-left: 0.2em;position: relative;}#sk-container-id-3 div.sk-item {position: relative;z-index: 1;}#sk-container-id-3 div.sk-parallel {display: flex;align-items: stretch;justify-content: center;background-color: white;position: relative;}#sk-container-id-3 div.sk-item::before, #sk-container-id-3 div.sk-parallel-item::before {content: \"\";position: absolute;border-left: 1px solid gray;box-sizing: border-box;top: 0;bottom: 0;left: 50%;z-index: -1;}#sk-container-id-3 div.sk-parallel-item {display: flex;flex-direction: column;z-index: 1;position: relative;background-color: white;}#sk-container-id-3 div.sk-parallel-item:first-child::after {align-self: flex-end;width: 50%;}#sk-container-id-3 div.sk-parallel-item:last-child::after {align-self: flex-start;width: 50%;}#sk-container-id-3 div.sk-parallel-item:only-child::after {width: 0;}#sk-container-id-3 div.sk-dashed-wrapped {border: 1px dashed gray;margin: 0 0.4em 0.5em 0.4em;box-sizing: border-box;padding-bottom: 0.4em;background-color: white;}#sk-container-id-3 div.sk-label label {font-family: monospace;font-weight: bold;display: inline-block;line-height: 1.2em;}#sk-container-id-3 div.sk-label-container {text-align: center;}#sk-container-id-3 div.sk-container {/* jupyter's `normalize.less` sets `[hidden] { display: none; }` but bootstrap.min.css set `[hidden] { display: none !important; }` so we also need the `!important` here to be able to override the default hidden behavior on the sphinx rendered scikit-learn.org. See: https://github.com/scikit-learn/scikit-learn/issues/21755 */display: inline-block !important;position: relative;}#sk-container-id-3 div.sk-text-repr-fallback {display: none;}</style><div id=\"sk-container-id-3\" class=\"sk-top-container\"><div class=\"sk-text-repr-fallback\"><pre>GridSearchCV(cv=5, estimator=RandomForestRegressor(random_state=42),\n",
              "             param_grid=[{&#x27;max_features&#x27;: [2, 4, 6, 8],\n",
              "                          &#x27;n_estimators&#x27;: [3, 10, 30]},\n",
              "                         {&#x27;bootstrap&#x27;: [False], &#x27;max_features&#x27;: [2, 3, 4],\n",
              "                          &#x27;n_estimators&#x27;: [3, 10]}],\n",
              "             return_train_score=True, scoring=&#x27;neg_mean_squared_error&#x27;)</pre><b>In a Jupyter environment, please rerun this cell to show the HTML representation or trust the notebook. <br />On GitHub, the HTML representation is unable to render, please try loading this page with nbviewer.org.</b></div><div class=\"sk-container\" hidden><div class=\"sk-item sk-dashed-wrapped\"><div class=\"sk-label-container\"><div class=\"sk-label sk-toggleable\"><input class=\"sk-toggleable__control sk-hidden--visually\" id=\"sk-estimator-id-3\" type=\"checkbox\" ><label for=\"sk-estimator-id-3\" class=\"sk-toggleable__label sk-toggleable__label-arrow\">GridSearchCV</label><div class=\"sk-toggleable__content\"><pre>GridSearchCV(cv=5, estimator=RandomForestRegressor(random_state=42),\n",
              "             param_grid=[{&#x27;max_features&#x27;: [2, 4, 6, 8],\n",
              "                          &#x27;n_estimators&#x27;: [3, 10, 30]},\n",
              "                         {&#x27;bootstrap&#x27;: [False], &#x27;max_features&#x27;: [2, 3, 4],\n",
              "                          &#x27;n_estimators&#x27;: [3, 10]}],\n",
              "             return_train_score=True, scoring=&#x27;neg_mean_squared_error&#x27;)</pre></div></div></div><div class=\"sk-parallel\"><div class=\"sk-parallel-item\"><div class=\"sk-item\"><div class=\"sk-label-container\"><div class=\"sk-label sk-toggleable\"><input class=\"sk-toggleable__control sk-hidden--visually\" id=\"sk-estimator-id-4\" type=\"checkbox\" ><label for=\"sk-estimator-id-4\" class=\"sk-toggleable__label sk-toggleable__label-arrow\">estimator: RandomForestRegressor</label><div class=\"sk-toggleable__content\"><pre>RandomForestRegressor(random_state=42)</pre></div></div></div><div class=\"sk-serial\"><div class=\"sk-item\"><div class=\"sk-estimator sk-toggleable\"><input class=\"sk-toggleable__control sk-hidden--visually\" id=\"sk-estimator-id-5\" type=\"checkbox\" ><label for=\"sk-estimator-id-5\" class=\"sk-toggleable__label sk-toggleable__label-arrow\">RandomForestRegressor</label><div class=\"sk-toggleable__content\"><pre>RandomForestRegressor(random_state=42)</pre></div></div></div></div></div></div></div></div></div></div>"
            ]
          },
          "metadata": {},
          "execution_count": 20
        }
      ],
      "source": [
        "# CODE HERE\n",
        "param_grid = [\n",
        "    {'n_estimators': [3, 10, 30], 'max_features': [2, 4, 6, 8]},\n",
        "    {'bootstrap': [False], 'n_estimators': [3, 10], 'max_features': [2, 3, 4]},\n",
        "  ]\n",
        "\n",
        "RFR = RandomForestRegressor(random_state=42)\n",
        "grid_search = GridSearchCV(RFR, param_grid, cv=5,\n",
        "                           scoring='neg_mean_squared_error',\n",
        "                           return_train_score=True)\n",
        "grid_search.fit(housing_prepared, housing_labels)"
      ]
    },
    {
      "cell_type": "markdown",
      "metadata": {
        "id": "EhYbsAnE0j75"
      },
      "source": [
        "with the evaluation scores"
      ]
    },
    {
      "cell_type": "code",
      "execution_count": 23,
      "metadata": {
        "id": "qhDCrx0Y0ocN",
        "colab": {
          "base_uri": "https://localhost:8080/"
        },
        "outputId": "b6f89f6e-bd72-4743-b80a-864a863effa9"
      },
      "outputs": [
        {
          "output_type": "stream",
          "name": "stdout",
          "text": [
            "Scores: 49672.50940389753\n",
            "Mean: 49672.50940389753\n",
            "Standard deviation: 0.0\n"
          ]
        }
      ],
      "source": [
        "# CODE HERE\n",
        "scores = np.sqrt(-grid_search.best_score_)\n",
        "print(\"Scores:\", scores)\n",
        "print(\"Mean:\", scores.mean())\n",
        "print(\"Standard deviation:\", scores.std())"
      ]
    },
    {
      "cell_type": "markdown",
      "metadata": {
        "id": "pjRCrlqEyH1A"
      },
      "source": [
        "# Analyze the Best Models and Their Errors\n",
        "1-indicate the relative importance of each attribute"
      ]
    },
    {
      "cell_type": "code",
      "execution_count": 27,
      "metadata": {
        "id": "y2MkCD1Byh9F",
        "colab": {
          "base_uri": "https://localhost:8080/"
        },
        "outputId": "6e777201-d37f-4f04-8b34-72ed4975dadb"
      },
      "outputs": [
        {
          "output_type": "stream",
          "name": "stdout",
          "text": [
            "[6.84493392e-02 6.49131340e-02 4.17428333e-02 1.45158216e-02\n",
            " 1.37060650e-02 1.43001651e-02 1.29591331e-02 3.71833888e-01\n",
            " 4.94502910e-02 1.09758357e-01 6.11769498e-02 7.39554036e-03\n",
            " 1.65012599e-01 2.28668090e-04 1.83994495e-03 2.71727020e-03]\n"
          ]
        }
      ],
      "source": [
        "# CODE HERE\n",
        "feature_importances = grid_search.best_estimator_.feature_importances_\n",
        "print(feature_importances)\n"
      ]
    },
    {
      "cell_type": "markdown",
      "metadata": {
        "id": "b01L7mUm1xTV"
      },
      "source": [
        "2-display these importance scores next to their corresponding attribute names:"
      ]
    },
    {
      "cell_type": "code",
      "execution_count": 36,
      "metadata": {
        "id": "dau43zXt14i7",
        "colab": {
          "base_uri": "https://localhost:8080/"
        },
        "outputId": "78e01ddb-d0f7-4c54-94de-20c8a62eb8f0"
      },
      "outputs": [
        {
          "output_type": "execute_result",
          "data": {
            "text/plain": [
              "[(0.37183388814667373, 'median_income'),\n",
              " (0.16501259905352061, 'INLAND'),\n",
              " (0.1097583570805625, 'population_per_household'),\n",
              " (0.06844933917056337, 'longitude'),\n",
              " (0.06491313404989336, 'latitude'),\n",
              " (0.061176949819538154, 'bedrooms_per_room'),\n",
              " (0.04945029095965893, 'rooms_per_household'),\n",
              " (0.0417428332867604, 'housing_median_age'),\n",
              " (0.014515821649955954, 'total_rooms'),\n",
              " (0.014300165080528202, 'population'),\n",
              " (0.013706064997348836, 'total_bedrooms'),\n",
              " (0.012959133102106802, 'households'),\n",
              " (0.0073955403637295455, '<1H OCEAN'),\n",
              " (0.0027172702007613975, 'NEAR OCEAN'),\n",
              " (0.0018399449484004105, 'NEAR BAY'),\n",
              " (0.00022866808999787155, 'ISLAND')]"
            ]
          },
          "metadata": {},
          "execution_count": 36
        }
      ],
      "source": [
        "# CODE HERE\n",
        "custom_attr = [\"rooms_per_household\", \"population_per_household\", \"bedrooms_per_room\"]\n",
        "original_cat = full_pipeline.named_transformers_[\"cat\"]\n",
        "\n",
        "cat_one_hot = list(original_cat.categories_[0])\n",
        "attributes = num_attribs + custom_attr + cat_one_hot\n",
        "\n",
        "sorted(zip(feature_importances, attributes), reverse=True)"
      ]
    },
    {
      "cell_type": "markdown",
      "metadata": {
        "id": "esOPiD6Pyice"
      },
      "source": [
        "## Now is the time to evaluate the final model on the test set.\n",
        "# Evaluate Your System on the Test Set\n",
        "\n",
        "1-get the predictors and the labels from your test set"
      ]
    },
    {
      "cell_type": "code",
      "execution_count": 38,
      "metadata": {
        "id": "ZrmGwOEyykad"
      },
      "outputs": [],
      "source": [
        "# CODE HERE\n",
        "X_test = test_set.drop(\"median_house_value\", axis=1)\n",
        "y_test = test_set[\"median_house_value\"].copy()\n",
        "final_model = grid_search.best_estimator_"
      ]
    },
    {
      "cell_type": "markdown",
      "metadata": {
        "id": "lhkKu23G2yNd"
      },
      "source": [
        "2-run your full_pipeline to transform the data"
      ]
    },
    {
      "cell_type": "code",
      "execution_count": 40,
      "metadata": {
        "id": "VBfW1WG823TE"
      },
      "outputs": [],
      "source": [
        "# CODE HERE\n",
        "X_test_prepared = full_pipeline.transform(X_test)\n",
        "predictions = final_model.predict(X_test_prepared)"
      ]
    },
    {
      "cell_type": "markdown",
      "metadata": {
        "id": "hNVnMSJy28xt"
      },
      "source": [
        "3-evaluate the final model on the test set"
      ]
    },
    {
      "cell_type": "code",
      "execution_count": 44,
      "metadata": {
        "id": "HrcgAUoy2_tc",
        "colab": {
          "base_uri": "https://localhost:8080/"
        },
        "outputId": "f9d653bb-3779-489b-a1bb-8ec7af786d87"
      },
      "outputs": [
        {
          "output_type": "execute_result",
          "data": {
            "text/plain": [
              "49198.020631676336"
            ]
          },
          "metadata": {},
          "execution_count": 44
        }
      ],
      "source": [
        "# CODE HERE\n",
        "mse = mean_squared_error(y_test, predictions)\n",
        "rmse = np.sqrt(mse)\n",
        "rmse"
      ]
    },
    {
      "cell_type": "markdown",
      "metadata": {
        "id": "wYBxgnsx3Ipr"
      },
      "source": [
        "# compute a 95% confidence interval for the generalization error\n",
        "*using scipy.stats.t.interval():*"
      ]
    },
    {
      "cell_type": "code",
      "execution_count": 46,
      "metadata": {
        "id": "ngWpgPrE3NaS"
      },
      "outputs": [],
      "source": [
        "from scipy import stats"
      ]
    },
    {
      "cell_type": "code",
      "execution_count": 47,
      "metadata": {
        "id": "6RFaMou83WBY",
        "colab": {
          "base_uri": "https://localhost:8080/"
        },
        "outputId": "0b7647a0-93ed-44fc-e767-d0c4e1fccba2"
      },
      "outputs": [
        {
          "output_type": "execute_result",
          "data": {
            "text/plain": [
              "array([46948.10215126, 51349.4515311 ])"
            ]
          },
          "metadata": {},
          "execution_count": 47
        }
      ],
      "source": [
        "# CODE HERE\n",
        "confidence = 0.95\n",
        "squared_errors = (predictions - y_test) ** 2\n",
        "np.sqrt(stats.t.interval(confidence, len(squared_errors) - 1,loc=squared_errors.mean(),scale=stats.sem(squared_errors)))"
      ]
    },
    {
      "cell_type": "markdown",
      "metadata": {
        "id": "fTsy6N8Uytpo"
      },
      "source": [
        "# Great Job!\n",
        "# #shAI_Club"
      ]
    }
  ],
  "metadata": {
    "colab": {
      "provenance": []
    },
    "kernelspec": {
      "display_name": "Python 3",
      "language": "python",
      "name": "python3"
    },
    "language_info": {
      "codemirror_mode": {
        "name": "ipython",
        "version": 3
      },
      "file_extension": ".py",
      "mimetype": "text/x-python",
      "name": "python",
      "nbconvert_exporter": "python",
      "pygments_lexer": "ipython3",
      "version": "3.7.9"
    }
  },
  "nbformat": 4,
  "nbformat_minor": 0
}